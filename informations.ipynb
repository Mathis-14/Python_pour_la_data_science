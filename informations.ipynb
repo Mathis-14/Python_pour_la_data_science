{
 "cells": [
  {
   "cell_type": "markdown",
   "id": "e6d4b0f3",
   "metadata": {},
   "source": [
    "Python pour la Data-Science"
   ]
  },
  {
   "cell_type": "markdown",
   "id": "c8c9806b",
   "metadata": {},
   "source": [
    "datagouv.fr\n",
    "\n",
    "https://pythonds.linogaliana.fr/\n",
    "\n",
    "https://datalab.sspcloud.fr/\n",
    "\n",
    "Faire attention à le reproductibilité\n",
    "\n",
    "Pas de projet Kaggle.\n",
    "\n",
    "Trois dimensions doivent être présentes dans le projet : manipuler, visualiser, modéliser."
   ]
  }
 ],
 "metadata": {
  "language_info": {
   "name": "python"
  }
 },
 "nbformat": 4,
 "nbformat_minor": 5
}
